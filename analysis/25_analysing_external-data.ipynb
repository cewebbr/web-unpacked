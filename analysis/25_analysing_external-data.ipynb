{
 "cells": [
  {
   "cell_type": "markdown",
   "id": "fa6e2b79-9538-41df-910c-8d974acf4d4b",
   "metadata": {},
   "source": [
    "# Analysing external data"
   ]
  },
  {
   "cell_type": "code",
   "execution_count": 1,
   "id": "8445aec8-68b9-4c38-a05a-f5473a550802",
   "metadata": {},
   "outputs": [],
   "source": [
    "import pandas as pd\n",
    "import numpy as np\n",
    "import matplotlib.pyplot as pl"
   ]
  },
  {
   "cell_type": "markdown",
   "id": "076643a2-1b03-4817-95ff-7e5d9094b02b",
   "metadata": {},
   "source": [
    "## Jansen et al. 2022 - Monthly visits"
   ]
  },
  {
   "cell_type": "markdown",
   "id": "1656964d-990d-4366-b7fa-2fc3be052720",
   "metadata": {},
   "source": [
    "**ATTENTION:** The data was visually extracted from Fig. 2 of Jansen et al. 2022 paper using WebPlotDigitizer. It was supposed to contain 86 data points, but not all dots were found. \n",
    "These are likely to be placed on dense regions. Thus, correlation in real data should be stronger than the one found in this scraped data."
   ]
  },
  {
   "cell_type": "code",
   "execution_count": 4,
   "id": "b1a035bc-3b2c-4a29-92f9-7118c073d19b",
   "metadata": {},
   "outputs": [],
   "source": [
    "# Load data:\n",
    "jansen_visits_df = pd.read_csv('../data/raw/Jansen_2022_scrap_log-visits_similarweb-google.csv', names=['google_log_visits', 'similarweb_log_visits'])"
   ]
  },
  {
   "cell_type": "code",
   "execution_count": 8,
   "id": "1c942282-f730-4e5a-a46f-a23add9b8362",
   "metadata": {},
   "outputs": [],
   "source": [
    "jansen_visits_df['google_visits'] = 10**jansen_visits_df['google_log_visits']\n",
    "jansen_visits_df['similarweb_visits'] = 10**jansen_visits_df['similarweb_log_visits']"
   ]
  },
  {
   "cell_type": "code",
   "execution_count": 9,
   "id": "0442926e-a169-4fba-9426-7b59d618ba84",
   "metadata": {},
   "outputs": [
    {
     "data": {
      "text/html": [
       "<div>\n",
       "<style scoped>\n",
       "    .dataframe tbody tr th:only-of-type {\n",
       "        vertical-align: middle;\n",
       "    }\n",
       "\n",
       "    .dataframe tbody tr th {\n",
       "        vertical-align: top;\n",
       "    }\n",
       "\n",
       "    .dataframe thead th {\n",
       "        text-align: right;\n",
       "    }\n",
       "</style>\n",
       "<table border=\"1\" class=\"dataframe\">\n",
       "  <thead>\n",
       "    <tr style=\"text-align: right;\">\n",
       "      <th></th>\n",
       "      <th>google_log_visits</th>\n",
       "      <th>similarweb_log_visits</th>\n",
       "      <th>google_visits</th>\n",
       "      <th>similarweb_visits</th>\n",
       "    </tr>\n",
       "  </thead>\n",
       "  <tbody>\n",
       "    <tr>\n",
       "      <th>google_log_visits</th>\n",
       "      <td>1.000000</td>\n",
       "      <td>0.950502</td>\n",
       "      <td>0.584648</td>\n",
       "      <td>0.617660</td>\n",
       "    </tr>\n",
       "    <tr>\n",
       "      <th>similarweb_log_visits</th>\n",
       "      <td>0.950502</td>\n",
       "      <td>1.000000</td>\n",
       "      <td>0.552545</td>\n",
       "      <td>0.641311</td>\n",
       "    </tr>\n",
       "    <tr>\n",
       "      <th>google_visits</th>\n",
       "      <td>0.584648</td>\n",
       "      <td>0.552545</td>\n",
       "      <td>1.000000</td>\n",
       "      <td>0.942369</td>\n",
       "    </tr>\n",
       "    <tr>\n",
       "      <th>similarweb_visits</th>\n",
       "      <td>0.617660</td>\n",
       "      <td>0.641311</td>\n",
       "      <td>0.942369</td>\n",
       "      <td>1.000000</td>\n",
       "    </tr>\n",
       "  </tbody>\n",
       "</table>\n",
       "</div>"
      ],
      "text/plain": [
       "                       google_log_visits  similarweb_log_visits  \\\n",
       "google_log_visits               1.000000               0.950502   \n",
       "similarweb_log_visits           0.950502               1.000000   \n",
       "google_visits                   0.584648               0.552545   \n",
       "similarweb_visits               0.617660               0.641311   \n",
       "\n",
       "                       google_visits  similarweb_visits  \n",
       "google_log_visits           0.584648           0.617660  \n",
       "similarweb_log_visits       0.552545           0.641311  \n",
       "google_visits               1.000000           0.942369  \n",
       "similarweb_visits           0.942369           1.000000  "
      ]
     },
     "execution_count": 9,
     "metadata": {},
     "output_type": "execute_result"
    }
   ],
   "source": [
    "jansen_visits_df.corr()"
   ]
  },
  {
   "cell_type": "code",
   "execution_count": null,
   "id": "03695e88-bdb0-4097-a6f8-1dade26280f8",
   "metadata": {},
   "outputs": [],
   "source": []
  }
 ],
 "metadata": {
  "kernelspec": {
   "display_name": "Python 3 (ipykernel)",
   "language": "python",
   "name": "python3"
  },
  "language_info": {
   "codemirror_mode": {
    "name": "ipython",
    "version": 3
   },
   "file_extension": ".py",
   "mimetype": "text/x-python",
   "name": "python",
   "nbconvert_exporter": "python",
   "pygments_lexer": "ipython3",
   "version": "3.8.10"
  }
 },
 "nbformat": 4,
 "nbformat_minor": 5
}
